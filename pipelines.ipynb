{
 "cells": [
  {
   "cell_type": "code",
   "execution_count": null,
   "metadata": {
    "collapsed": false
   },
   "outputs": [],
   "source": [
    "%matplotlib inline\n",
    "import os.path as op\n",
    "\n",
    "import gensim\n",
    "from keras.applications import vgg19\n",
    "from keras.optimizers import SGD\n",
    "import matplotlib.pyplot as plt\n",
    "import matplotlib.image as mpimg\n",
    "from nltk.corpus import stopwords\n",
    "import numpy as np\n",
    "from PIL import Image\n",
    "from pycocotools.coco import COCO\n",
    "\n",
    "from image_processing import process_image\n",
    "from retrieval_pipelines import absolute_coco_path, tag_to_image_search, image_to_tag_search, most_common_tags\n",
    "from text_processing import sentence2vec, create_caption_dataframe\n",
    "from tools import intersect_sort\n",
    "from vgg import compute_nn_features\n",
    "from word2vec import compute_textual_features"
   ]
  },
  {
   "cell_type": "code",
   "execution_count": null,
   "metadata": {
    "collapsed": false
   },
   "outputs": [],
   "source": [
    "data_dir = \"dataset\"\n",
    "data_type = \"train2014\"\n",
    "ann_file = op.join(\n",
    "    data_dir, \"annotations\", \"instances_{0}.json\".format(data_type))\n",
    "coco = COCO(ann_file)"
   ]
  },
  {
   "cell_type": "code",
   "execution_count": null,
   "metadata": {
    "collapsed": false
   },
   "outputs": [],
   "source": [
    "W_visual = np.load(\"W1.npy\")\n",
    "W_text = np.load(\"W2.npy\")\n",
    "V = np.load(\"V.npy\")\n",
    "T = np.load(\"T.npy\")\n",
    "img_ids = np.load(\"visual_img_ids.npy\")\n",
    "W_text = W_text.T\n",
    "W_visual = W_visual.T"
   ]
  },
  {
   "cell_type": "code",
   "execution_count": null,
   "metadata": {
    "collapsed": true
   },
   "outputs": [],
   "source": [
    "tag = \"sport\""
   ]
  },
  {
   "cell_type": "code",
   "execution_count": null,
   "metadata": {
    "collapsed": false
   },
   "outputs": [],
   "source": [
    "# print('\\nLoading word2vec model ...')\n",
    "# path = op.join('models', 'GoogleNews-vectors-negative300.bin')\n",
    "# model = gensim.models.Word2Vec.load_word2vec_format(path, binary=True)"
   ]
  },
  {
   "cell_type": "code",
   "execution_count": null,
   "metadata": {
    "collapsed": false
   },
   "outputs": [],
   "source": [
    "# tag_features = sentence2vec(tag, model)\n",
    "# del model\n",
    "tag_features = np.load(\"{0}_features.npy\".format(tag))"
   ]
  },
  {
   "cell_type": "code",
   "execution_count": null,
   "metadata": {
    "collapsed": true
   },
   "outputs": [],
   "source": [
    "# np.save(\"{0}_features\".format(tag), tag_features)"
   ]
  },
  {
   "cell_type": "code",
   "execution_count": null,
   "metadata": {
    "collapsed": false
   },
   "outputs": [],
   "source": [
    "database_images = W_visual.dot(V.T)\n",
    "database_images = database_images.T"
   ]
  },
  {
   "cell_type": "code",
   "execution_count": null,
   "metadata": {
    "collapsed": false
   },
   "outputs": [],
   "source": [
    "retrieved_img_ids = tag_to_image_search(tag_features, W_text, database_images, img_ids, coco, n_images=10)\n",
    "img_paths = [absolute_coco_path(int(img_id), coco) for img_id in retrieved_img_ids]"
   ]
  },
  {
   "cell_type": "code",
   "execution_count": null,
   "metadata": {
    "collapsed": false,
    "scrolled": false
   },
   "outputs": [],
   "source": [
    "for im_idx, img_path in enumerate(img_paths):\n",
    "    plt.figure(im_idx)\n",
    "    img = mpimg.imread(img_path)\n",
    "    imgplot = plt.imshow(img)"
   ]
  },
  {
   "cell_type": "code",
   "execution_count": null,
   "metadata": {
    "collapsed": false
   },
   "outputs": [],
   "source": [
    "# df_caption = create_caption_dataframe()\n",
    "# T = compute_textual_features(df_caption)\n",
    "# textual_img_ids = df_caption.index.values\n",
    "# Take only the features corresponding to common ids and sort by id\n",
    "# V, visual_img_ids, T, textual_img_ids = intersect_sort(V, img_ids, T, textual_img_ids)\n",
    "# np.save(\"T\", T)"
   ]
  },
  {
   "cell_type": "code",
   "execution_count": null,
   "metadata": {
    "collapsed": true
   },
   "outputs": [],
   "source": [
    "database_captions = W_text.dot(T.T)\n",
    "database_captions = database_captions.T"
   ]
  },
  {
   "cell_type": "code",
   "execution_count": null,
   "metadata": {
    "collapsed": false
   },
   "outputs": [],
   "source": [
    "image_name = \"boat.jpg\"\n",
    "image_path = op.join(data_dir, \"test\", image_name)"
   ]
  },
  {
   "cell_type": "code",
   "execution_count": null,
   "metadata": {
    "collapsed": false
   },
   "outputs": [],
   "source": [
    "plt.figure()\n",
    "plt.imshow(mpimg.imread(image_path))"
   ]
  },
  {
   "cell_type": "code",
   "execution_count": null,
   "metadata": {
    "collapsed": true
   },
   "outputs": [],
   "source": [
    "# img_mat = process_image(image_path)"
   ]
  },
  {
   "cell_type": "code",
   "execution_count": null,
   "metadata": {
    "collapsed": false
   },
   "outputs": [],
   "source": [
    "# net = vgg19.VGG19()\n",
    "# sgd = SGD(lr=0.1, decay=1e-6, momentum=0.9, nesterov=True)\n",
    "# net.compile(optimizer=sgd, loss='categorical_crossentropy')"
   ]
  },
  {
   "cell_type": "code",
   "execution_count": null,
   "metadata": {
    "collapsed": false
   },
   "outputs": [],
   "source": [
    "# visual_features = compute_nn_features([img_mat], net)"
   ]
  },
  {
   "cell_type": "code",
   "execution_count": null,
   "metadata": {
    "collapsed": false
   },
   "outputs": [],
   "source": [
    "# np.save(\"{0}_visual_features\".format(image_name.split(\".\")[0]), visual_features)"
   ]
  },
  {
   "cell_type": "code",
   "execution_count": null,
   "metadata": {
    "collapsed": false
   },
   "outputs": [],
   "source": [
    "visual_features = np.load(\"{0}_visual_features.npy\".format(image_name.split(\".\")[0]))\n",
    "visual_features = np.reshape(visual_features, (W_visual.shape[1]))"
   ]
  },
  {
   "cell_type": "code",
   "execution_count": null,
   "metadata": {
    "collapsed": false
   },
   "outputs": [],
   "source": [
    "n_tags = 4\n",
    "annotations = image_to_tag_search(visual_features.T, W_visual, database_captions, img_ids, coco, n_tags=n_tags, expanding_factor=4)"
   ]
  },
  {
   "cell_type": "code",
   "execution_count": null,
   "metadata": {
    "collapsed": false
   },
   "outputs": [],
   "source": [
    "stops = set(stopwords.words('english'))"
   ]
  },
  {
   "cell_type": "code",
   "execution_count": null,
   "metadata": {
    "collapsed": false
   },
   "outputs": [],
   "source": [
    "most_common_tags(annotations, n_tags, stops)"
   ]
  },
  {
   "cell_type": "code",
   "execution_count": null,
   "metadata": {
    "collapsed": true
   },
   "outputs": [],
   "source": []
  }
 ],
 "metadata": {
  "kernelspec": {
   "display_name": "Python 3",
   "language": "python",
   "name": "python3"
  },
  "language_info": {
   "codemirror_mode": {
    "name": "ipython",
    "version": 3
   },
   "file_extension": ".py",
   "mimetype": "text/x-python",
   "name": "python",
   "nbconvert_exporter": "python",
   "pygments_lexer": "ipython3",
   "version": "3.5.2"
  }
 },
 "nbformat": 4,
 "nbformat_minor": 2
}
