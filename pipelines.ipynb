{
 "cells": [
  {
   "cell_type": "code",
   "execution_count": null,
   "metadata": {
    "collapsed": false
   },
   "outputs": [],
   "source": [
    "import os.path as op\n",
    "\n",
    "import gensim\n",
    "import numpy as np\n",
    "from PIL import Image\n",
    "from pycocotools.coco import COCO\n",
    "\n",
    "from text_processing import sentence2vec\n",
    "from retrieval_pipelines import tag_to_image_search"
   ]
  },
  {
   "cell_type": "code",
   "execution_count": null,
   "metadata": {
    "collapsed": true
   },
   "outputs": [],
   "source": [
    "tag = \"giraffe\""
   ]
  },
  {
   "cell_type": "code",
   "execution_count": null,
   "metadata": {
    "collapsed": false
   },
   "outputs": [],
   "source": [
    "print('\\nLoading word2vec model ...')\n",
    "path = op.join('models', 'GoogleNews-vectors-negative300.bin')\n",
    "# model = gensim.models.Word2Vec.load_word2vec_format(path, binary=True)"
   ]
  },
  {
   "cell_type": "code",
   "execution_count": null,
   "metadata": {
    "collapsed": false
   },
   "outputs": [],
   "source": [
    "# tag_features = sentence2vec(tag, model)\n",
    "# del model\n",
    "tag_features = np.load(\"{0}_features.npy\".format(tag))"
   ]
  },
  {
   "cell_type": "code",
   "execution_count": null,
   "metadata": {
    "collapsed": false
   },
   "outputs": [],
   "source": [
    "data_dir = \"dataset\"\n",
    "data_type = \"train2014\"\n",
    "ann_file = op.join(\n",
    "    data_dir, \"annotations\", \"instances_{0}.json\".format(data_type))\n",
    "coco = COCO(ann_file)"
   ]
  },
  {
   "cell_type": "code",
   "execution_count": null,
   "metadata": {
    "collapsed": false
   },
   "outputs": [],
   "source": [
    "W_visual = np.load(\"W1.npy\")\n",
    "W_text = np.load(\"W2.npy\")\n",
    "V = np.load(\"V.npy\")\n",
    "img_ids = np.load(\"visual_img_ids.npy\")\n",
    "W_text = W_text.T\n",
    "print(\"Textual matrix for common space dimensions : {0}\".format(W_text.shape))\n",
    "W_visual = W_visual.T\n",
    "print(\"Visual matrix for common space dimensions : {0}\".format(W_visual.shape))"
   ]
  },
  {
   "cell_type": "code",
   "execution_count": null,
   "metadata": {
    "collapsed": false
   },
   "outputs": [],
   "source": [
    "database_images = W_visual.dot(V.T)\n",
    "database_images = database_images.T"
   ]
  },
  {
   "cell_type": "code",
   "execution_count": null,
   "metadata": {
    "collapsed": false
   },
   "outputs": [],
   "source": [
    "img_paths = tag_to_image_search(tag_features, W_text, database_images, img_ids, coco, n_images=3)"
   ]
  },
  {
   "cell_type": "code",
   "execution_count": null,
   "metadata": {
    "collapsed": true
   },
   "outputs": [],
   "source": [
    "# np.save(\"{0}_features\".format(tag), tag_features)"
   ]
  },
  {
   "cell_type": "code",
   "execution_count": null,
   "metadata": {
    "collapsed": true
   },
   "outputs": [],
   "source": [
    "for img_path in img_paths:\n",
    "    img = Image.open(img_path)\n",
    "    img.show() "
   ]
  },
  {
   "cell_type": "code",
   "execution_count": null,
   "metadata": {
    "collapsed": true
   },
   "outputs": [],
   "source": []
  }
 ],
 "metadata": {
  "kernelspec": {
   "display_name": "Python 3",
   "language": "python",
   "name": "python3"
  },
  "language_info": {
   "codemirror_mode": {
    "name": "ipython",
    "version": 3
   },
   "file_extension": ".py",
   "mimetype": "text/x-python",
   "name": "python",
   "nbconvert_exporter": "python",
   "pygments_lexer": "ipython3",
   "version": "3.5.2"
  }
 },
 "nbformat": 4,
 "nbformat_minor": 2
}
