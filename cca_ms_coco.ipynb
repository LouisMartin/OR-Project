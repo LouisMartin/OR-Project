{
 "cells": [
  {
   "cell_type": "markdown",
   "metadata": {},
   "source": [
    "# CCA on MS COCO dataset"
   ]
  },
  {
   "cell_type": "code",
   "execution_count": null,
   "metadata": {
    "collapsed": false
   },
   "outputs": [],
   "source": [
    "%load_ext autoreload\n",
    "%autoreload 2\n",
    "\n",
    "import time\n",
    "\n",
    "import numpy as np\n",
    "from keras.applications import vgg19\n",
    "from keras.optimizers import SGD\n",
    "from pycocotools.coco import COCO\n",
    "\n",
    "from image_processing import load_images, categories, ann_file\n",
    "from vgg import compute_nn_features\n",
    "from text_processing import create_caption_dataframe\n",
    "from word2vec import compute_textual_features"
   ]
  },
  {
   "cell_type": "code",
   "execution_count": null,
   "metadata": {
    "collapsed": false
   },
   "outputs": [],
   "source": [
    "coco = COCO(ann_file)"
   ]
  },
  {
   "cell_type": "code",
   "execution_count": null,
   "metadata": {
    "collapsed": false
   },
   "outputs": [],
   "source": [
    "X_visual, _, visual_img_ids = load_images(categories, coco=coco)\n",
    "np.save('X_visual.npy', X_visual)"
   ]
  },
  {
   "cell_type": "code",
   "execution_count": null,
   "metadata": {
    "collapsed": true
   },
   "outputs": [],
   "source": [
    "X_visual = np.load('X_visual.npy')\n",
    "X_visual = X_visual[:X_visual.shape[0]//2]"
   ]
  },
  {
   "cell_type": "code",
   "execution_count": null,
   "metadata": {
    "collapsed": false
   },
   "outputs": [],
   "source": [
    "net = vgg19.VGG19()\n",
    "sgd = SGD(lr=0.1, decay=1e-6, momentum=0.9, nesterov=True)\n",
    "net.compile(optimizer=sgd, loss='categorical_crossentropy')"
   ]
  },
  {
   "cell_type": "code",
   "execution_count": null,
   "metadata": {
    "collapsed": false
   },
   "outputs": [],
   "source": [
    "from tqdm import tqdm\n",
    "\n",
    "V = np.zeros((X_visual.shape[0], 4096))\n",
    "for i in tqdm(range(X_visual.shape[0]//10+1)):\n",
    "    start_index = (i)*10\n",
    "    end_index = (i+1)*10\n",
    "    end_index = min(end_index, X_visual.shape[0])\n",
    "    X_temp = X_visual[start_index:end_index]\n",
    "    V_temp = compute_nn_features(X_temp, net, layer=2)\n",
    "    V[start_index:end_index,:] = V_temp"
   ]
  },
  {
   "cell_type": "code",
   "execution_count": null,
   "metadata": {
    "collapsed": true
   },
   "outputs": [],
   "source": [
    "np.save('V.npy', V)"
   ]
  },
  {
   "cell_type": "code",
   "execution_count": null,
   "metadata": {
    "collapsed": false
   },
   "outputs": [],
   "source": [
    "df_caption = create_caption_dataframe()\n",
    "T = compute_textual_features(df_caption)\n",
    "textual_img_ids = df_caption.index.values"
   ]
  },
  {
   "cell_type": "code",
   "execution_count": null,
   "metadata": {
    "collapsed": false
   },
   "outputs": [],
   "source": [
    "def subset_features(features, all_ids, subset_ids):\n",
    "    ''' Subset features to only the samples corresponding to subset_ids\n",
    "    Args:\n",
    "        features (numpy array): Complete array of features as rows\n",
    "        all_ids (list): list of ids corresponding to each row of features\n",
    "        subset_ids (list): ids to subset textual_featurs\n",
    "    '''\n",
    "    features = features[np.in1d(all_ids, subset_ids)]\n",
    "    return features"
   ]
  },
  {
   "cell_type": "code",
   "execution_count": null,
   "metadata": {
    "collapsed": true
   },
   "outputs": [],
   "source": [
    "subset_features(T, textual_img_ids, visual_img_ids)"
   ]
  },
  {
   "cell_type": "code",
   "execution_count": null,
   "metadata": {
    "collapsed": false,
    "scrolled": true
   },
   "outputs": [],
   "source": [
    "from sklearn.cross_decomposition import CCA\n",
    "\n",
    "d = 128 # Dimension of the final joint latent space\n",
    "cca = CCA(n_components=d, scale=False)\n",
    "cca.fit(V,T)\n",
    "\n",
    "# New basis projection matrices\n",
    "W1 = cca.x_weights_\n",
    "W2 = cca.y_weights_\n",
    "\n",
    "# Compute features in the new latent space\n",
    "V_latent = np.dot(V,W1)\n",
    "T_latent = np.dot(T,W2)"
   ]
  },
  {
   "cell_type": "code",
   "execution_count": null,
   "metadata": {
    "collapsed": false
   },
   "outputs": [],
   "source": [
    "T = np.array([[1,1],[2,2],[3,3]])\n",
    "textual_image_ids = [9,15,32]\n",
    "visual_image_ids = [32]\n",
    "subset_features(T, textual_image_ids, visual_image_ids)"
   ]
  }
 ],
 "metadata": {
  "kernelspec": {
   "display_name": "Python 3",
   "language": "python",
   "name": "python3"
  },
  "language_info": {
   "codemirror_mode": {
    "name": "ipython",
    "version": 3
   },
   "file_extension": ".py",
   "mimetype": "text/x-python",
   "name": "python",
   "nbconvert_exporter": "python",
   "pygments_lexer": "ipython3",
   "version": "3.5.2"
  }
 },
 "nbformat": 4,
 "nbformat_minor": 1
}
