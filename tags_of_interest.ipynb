{
 "cells": [
  {
   "cell_type": "code",
   "execution_count": null,
   "metadata": {
    "collapsed": true
   },
   "outputs": [],
   "source": [
    "import os.path as op\n",
    "\n",
    "import gensim\n",
    "import numpy as np\n",
    "    \n",
    "from text_processing import sentence2vec"
   ]
  },
  {
   "cell_type": "code",
   "execution_count": null,
   "metadata": {
    "collapsed": true
   },
   "outputs": [],
   "source": [
    "tags = [\"dog skateboard\", \"red\", \"yellow\", \"cute rabbit\", \"cheerleader girls\", \"sail\", \"ocean\", \"ship sunset\",\n",
    "        \"ship\", \"giraffe\", \"sunset\", \"beautiful\", \"proud\", \"jump\", \"jumping\", \"water\", \"mess\", \"crowd\", \"party\",\n",
    "       \"rabbit\", \"closeup\", \"eye\", \"city fog\", \"storm\", \"night\"]"
   ]
  },
  {
   "cell_type": "code",
   "execution_count": null,
   "metadata": {
    "collapsed": false
   },
   "outputs": [],
   "source": [
    "\"_\".join([\"dog\", \"skateboard\"])"
   ]
  },
  {
   "cell_type": "code",
   "execution_count": null,
   "metadata": {
    "collapsed": false
   },
   "outputs": [],
   "source": [
    "for tag in tags:\n",
    "    feature_path = \"{0}_features.npy\".format(\"-\".join(tag.split()))\n",
    "    if not op.exists(feature_path):\n",
    "        print(\"Computing feature for {}\".format(tag))\n",
    "        try:\n",
    "            tag_features = sentence2vec(tag, model)\n",
    "        except NameError:\n",
    "            print(\"Loading model \\n\")\n",
    "            model_path = op.join('models', 'GoogleNews-vectors-negative300.bin')\n",
    "            model = gensim.models.Word2Vec.load_word2vec_format(model_path, binary=True)\n",
    "            tag_features = sentence2vec(tag, model)\n",
    "        finally:\n",
    "            np.save(feature_path, tag_features)\n",
    "            del tag_features"
   ]
  },
  {
   "cell_type": "code",
   "execution_count": null,
   "metadata": {
    "collapsed": false
   },
   "outputs": [],
   "source": [
    "del model"
   ]
  },
  {
   "cell_type": "code",
   "execution_count": null,
   "metadata": {
    "collapsed": true
   },
   "outputs": [],
   "source": []
  }
 ],
 "metadata": {
  "kernelspec": {
   "display_name": "Python 3",
   "language": "python",
   "name": "python3"
  },
  "language_info": {
   "codemirror_mode": {
    "name": "ipython",
    "version": 3
   },
   "file_extension": ".py",
   "mimetype": "text/x-python",
   "name": "python",
   "nbconvert_exporter": "python",
   "pygments_lexer": "ipython3",
   "version": "3.5.2"
  }
 },
 "nbformat": 4,
 "nbformat_minor": 2
}
