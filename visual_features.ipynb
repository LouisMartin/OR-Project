{
 "cells": [
  {
   "cell_type": "code",
   "execution_count": 1,
   "metadata": {
    "collapsed": false
   },
   "outputs": [
    {
     "name": "stderr",
     "output_type": "stream",
     "text": [
      "Using TensorFlow backend.\n"
     ]
    }
   ],
   "source": [
    "from image_processing import load_images, categories\n",
    "from vgg import compile_net, compute_vgg_features"
   ]
  },
  {
   "cell_type": "code",
   "execution_count": 2,
   "metadata": {
    "collapsed": false
   },
   "outputs": [
    {
     "name": "stdout",
     "output_type": "stream",
     "text": [
      "loading annotations into memory...\n",
      "Done (t=17.36s)\n",
      "creating index...\n",
      "index created!\n",
      "\n"
     ]
    }
   ],
   "source": [
    "X_train, Y_train = load_images(categories)"
   ]
  },
  {
   "cell_type": "code",
   "execution_count": null,
   "metadata": {
    "collapsed": false
   },
   "outputs": [],
   "source": [
    "compile_net()"
   ]
  },
  {
   "cell_type": "code",
   "execution_count": null,
   "metadata": {
    "collapsed": false
   },
   "outputs": [],
   "source": [
    "vgg_features = compute_vgg_features(X_train)"
   ]
  }
 ],
 "metadata": {
  "kernelspec": {
   "display_name": "Python 3",
   "language": "python",
   "name": "python3"
  },
  "language_info": {
   "codemirror_mode": {
    "name": "ipython",
    "version": 3
   },
   "file_extension": ".py",
   "mimetype": "text/x-python",
   "name": "python",
   "nbconvert_exporter": "python",
   "pygments_lexer": "ipython3",
   "version": "3.5.2"
  },
  "widgets": {
   "state": {
    "08c0bfc0c8d048cda71cf8408c63dc40": {
     "views": [
      {
       "cell_index": 1
      }
     ]
    },
    "0bf344d2e3884ef3b4280764fc9b2bfa": {
     "views": [
      {
       "cell_index": 1
      }
     ]
    },
    "0c88af9cbdc44cecb44ae90f2e8141bb": {
     "views": [
      {
       "cell_index": 1
      }
     ]
    },
    "c31ba60e99d949b888b522ddb9550d3f": {
     "views": [
      {
       "cell_index": 1
      }
     ]
    }
   },
   "version": "1.2.0"
  }
 },
 "nbformat": 4,
 "nbformat_minor": 2
}
