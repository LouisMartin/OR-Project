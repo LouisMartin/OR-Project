{
 "cells": [
  {
   "cell_type": "code",
   "execution_count": null,
   "metadata": {
    "collapsed": true
   },
   "outputs": [],
   "source": [
    "%matplotlib inline\n",
    "import os.path as op\n",
    "\n",
    "\n",
    "import matplotlib.pyplot as plt\n",
    "import matplotlib.image as mpimg\n",
    "import numpy as np"
   ]
  },
  {
   "cell_type": "code",
   "execution_count": null,
   "metadata": {
    "collapsed": true
   },
   "outputs": [],
   "source": [
    "names = [\"giraffe.jpg\", \"boat.jpg\", \"desk.jpg\", \"teddy_bear.jpg\", \"elephant_drawing.jpg\"]\n",
    "data_dir = \"dataset\""
   ]
  },
  {
   "cell_type": "code",
   "execution_count": null,
   "metadata": {
    "collapsed": false,
    "scrolled": false
   },
   "outputs": [],
   "source": [
    "for img_idx, image_name in enumerate(names):\n",
    "    image_path = op.join(data_dir, \"test\", image_name)\n",
    "    visual_feature_path = \"{0}_visual_features.npy\".format(image_name.split(\".\")[0])\n",
    "    plt.figure(img_idx)\n",
    "    plt.imshow(mpimg.imread(image_path))\n",
    "    if not op.exists(visual_feature_path):\n",
    "        try:\n",
    "            from image_processing import process_image\n",
    "            from vgg import compute_nn_features\n",
    "            \n",
    "            print(\"Processing {0}\".format(image_name))\n",
    "            img_mat = process_image(image_path)\n",
    "            visual_features = compute_nn_features([img_mat], net)\n",
    "        except NameError:\n",
    "            from keras.applications import vgg19\n",
    "            from keras.optimizers import SGD\n",
    "\n",
    "            print(\"Loading and compiling vgg19\")\n",
    "            net = vgg19.VGG19()\n",
    "            sgd = SGD(lr=0.1, decay=1e-6, momentum=0.9, nesterov=True)\n",
    "            net.compile(optimizer=sgd, loss='categorical_crossentropy')\n",
    "            visual_features = compute_nn_features([img_mat], net)\n",
    "        finally:\n",
    "            np.save(\"{0}_visual_features\".format(image_name.split(\".\")[0]), visual_features)"
   ]
  },
  {
   "cell_type": "code",
   "execution_count": null,
   "metadata": {
    "collapsed": true
   },
   "outputs": [],
   "source": []
  }
 ],
 "metadata": {
  "kernelspec": {
   "display_name": "Python 3",
   "language": "python",
   "name": "python3"
  },
  "language_info": {
   "codemirror_mode": {
    "name": "ipython",
    "version": 3
   },
   "file_extension": ".py",
   "mimetype": "text/x-python",
   "name": "python",
   "nbconvert_exporter": "python",
   "pygments_lexer": "ipython3",
   "version": "3.5.2"
  }
 },
 "nbformat": 4,
 "nbformat_minor": 2
}
