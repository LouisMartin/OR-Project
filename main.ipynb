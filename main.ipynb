{
 "cells": [
  {
   "cell_type": "code",
   "execution_count": null,
   "metadata": {
    "collapsed": false
   },
   "outputs": [],
   "source": [
    "%matplotlib inline\n",
    "\n",
    "import numpy as np\n",
    "import matplotlib.pyplot as plt"
   ]
  },
  {
   "cell_type": "markdown",
   "metadata": {},
   "source": [
    "## Original Space\n",
    "This joint space is the semantic behind the points.\n",
    "It should be recovered by CCA.  \n",
    "The two colors represent two different \"Themes\", for example \"Airplanes\" and \"Cars\""
   ]
  },
  {
   "cell_type": "code",
   "execution_count": null,
   "metadata": {
    "collapsed": false
   },
   "outputs": [],
   "source": [
    "mean_1 = np.array([0, 0])\n",
    "sigma_1 = np.array([[1, 0.2], [0.2, 2]])\n",
    "mean_2 = np.array([5, 5])\n",
    "sigma_2 = np.array([[2, 0.2], [0.2, 1]])\n",
    "data_1 = np.random.multivariate_normal(mean_1, sigma_1, 100)\n",
    "data_2 = np.random.multivariate_normal(mean_2, sigma_2, 100)\n",
    "\n",
    "plt.plot(data_1[:, 0], data_1[:, 1], \"ro\")\n",
    "plt.plot(data_2[:, 0], data_2[:, 1], \"bo\")\n",
    "plt.axis([-5, 10, -5, 10])\n",
    "plt.title(\"Original space\")\n",
    "plt.show()"
   ]
  },
  {
   "cell_type": "markdown",
   "metadata": {},
   "source": [
    "## Visual space\n",
    "Let's create a first mapping from the original space to a \"visual space\""
   ]
  },
  {
   "cell_type": "code",
   "execution_count": null,
   "metadata": {
    "collapsed": true
   },
   "outputs": [],
   "source": [
    "def visual_mapping(x, y):\n",
    "    return np.array([x+y, x-y]).T"
   ]
  },
  {
   "cell_type": "code",
   "execution_count": null,
   "metadata": {
    "collapsed": false
   },
   "outputs": [],
   "source": [
    "data_1_visual = visual_mapping(data_1[:, 0], data_1[:, 1])\n",
    "data_2_visual = visual_mapping(data_2[:, 0], data_2[:, 1])\n",
    "\n",
    "plt.plot(data_1_visual[:, 0], data_1_visual[:, 1], \"ro\")\n",
    "plt.plot(data_2_visual[:, 0], data_2_visual[:, 1], \"bo\")\n",
    "plt.title('Visual space')\n",
    "plt.show()"
   ]
  },
  {
   "cell_type": "markdown",
   "metadata": {},
   "source": [
    "## Textual space\n",
    "Similarly, create a second mapping from the original space to a \"textual space\""
   ]
  },
  {
   "cell_type": "code",
   "execution_count": null,
   "metadata": {
    "collapsed": true
   },
   "outputs": [],
   "source": [
    "def textual_mapping(x, y):\n",
    "    return np.array([x*np.cos(y), y*np.sin(x)]).T"
   ]
  },
  {
   "cell_type": "code",
   "execution_count": null,
   "metadata": {
    "collapsed": false
   },
   "outputs": [],
   "source": [
    "data_1_textual = textual_mapping(data_1[:, 0], data_1[:, 1])\n",
    "data_2_textual = textual_mapping(data_2[:, 0], data_2[:, 1])\n",
    "\n",
    "plt.plot(data_1_textual[:, 0], data_1_textual[:, 1], \"ro\")\n",
    "plt.plot(data_2_textual[:, 0], data_2_textual[:, 1], \"bo\")\n",
    "plt.title('Textual space')\n",
    "plt.show()"
   ]
  }
 ],
 "metadata": {
  "kernelspec": {
   "display_name": "Python 3",
   "language": "python",
   "name": "python3"
  },
  "language_info": {
   "codemirror_mode": {
    "name": "ipython",
    "version": 3
   },
   "file_extension": ".py",
   "mimetype": "text/x-python",
   "name": "python",
   "nbconvert_exporter": "python",
   "pygments_lexer": "ipython3",
   "version": "3.5.2"
  }
 },
 "nbformat": 4,
 "nbformat_minor": 2
}
