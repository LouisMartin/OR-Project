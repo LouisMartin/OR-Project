{
 "cells": [
  {
   "cell_type": "code",
   "execution_count": null,
   "metadata": {
    "collapsed": false
   },
   "outputs": [],
   "source": [
    "%matplotlib inline\n",
    "\n",
    "import numpy as np\n",
    "import matplotlib.pyplot as plt"
   ]
  },
  {
   "cell_type": "markdown",
   "metadata": {},
   "source": [
    "## Original Space\n",
    "This joint space is the semantic behind the points.\n",
    "It should be recovered by CCA.  \n",
    "The two colors represent two different \"Themes\", for example \"Airplanes\" and \"Cars\""
   ]
  },
  {
   "cell_type": "code",
   "execution_count": null,
   "metadata": {
    "collapsed": false
   },
   "outputs": [],
   "source": [
    "mean_1 = np.array([0, 0])\n",
    "sigma_1 = np.array([[1, 0.2], [0.2, 2]])\n",
    "mean_2 = np.array([5, 5])\n",
    "sigma_2 = np.array([[2, 0.2], [0.2, 1]])\n",
    "data_1 = np.random.multivariate_normal(mean_1, sigma_1, 100)\n",
    "data_2 = np.random.multivariate_normal(mean_2, sigma_2, 100)\n",
    "\n",
    "plt.plot(data_1[:, 0], data_1[:, 1], 'ro')\n",
    "plt.plot(data_2[:, 0], data_2[:, 1], 'bo')\n",
    "plt.axis([-5, 10, -5, 10])\n",
    "plt.title(\"Original space\")\n",
    "plt.show()"
   ]
  },
  {
   "cell_type": "markdown",
   "metadata": {},
   "source": [
    "## Visual space\n",
    "Let's create a first mapping from the original space to a \"visual space\""
   ]
  },
  {
   "cell_type": "code",
   "execution_count": null,
   "metadata": {
    "collapsed": true
   },
   "outputs": [],
   "source": [
    "def visual_mapping(x, y):\n",
    "    return np.array([x+y, x-y]).T"
   ]
  },
  {
   "cell_type": "code",
   "execution_count": null,
   "metadata": {
    "collapsed": false
   },
   "outputs": [],
   "source": [
    "data_1_visual = visual_mapping(data_1[:, 0], data_1[:, 1])\n",
    "data_2_visual = visual_mapping(data_2[:, 0], data_2[:, 1])\n",
    "\n",
    "plt.plot(data_1_visual[:, 0], data_1_visual[:, 1], 'rs')\n",
    "plt.plot(data_2_visual[:, 0], data_2_visual[:, 1], 'bs')\n",
    "plt.title('Visual space')\n",
    "plt.show()"
   ]
  },
  {
   "cell_type": "markdown",
   "metadata": {},
   "source": [
    "## Textual space\n",
    "Similarly, create a second mapping from the original space to a \"textual space\""
   ]
  },
  {
   "cell_type": "code",
   "execution_count": null,
   "metadata": {
    "collapsed": true
   },
   "outputs": [],
   "source": [
    "def textual_mapping(x, y):\n",
    "    return np.array([x*np.cos(y), y*np.sin(x)]).T"
   ]
  },
  {
   "cell_type": "code",
   "execution_count": null,
   "metadata": {
    "collapsed": false
   },
   "outputs": [],
   "source": [
    "data_1_textual = textual_mapping(data_1[:, 0], data_1[:, 1])\n",
    "data_2_textual = textual_mapping(data_2[:, 0], data_2[:, 1])\n",
    "\n",
    "plt.plot(data_1_textual[:, 0], data_1_textual[:, 1], 'r^')\n",
    "plt.plot(data_2_textual[:, 0], data_2_textual[:, 1], 'b^')\n",
    "plt.title('Textual space')\n",
    "plt.show()"
   ]
  },
  {
   "cell_type": "markdown",
   "metadata": {},
   "source": [
    "# CCA"
   ]
  },
  {
   "cell_type": "markdown",
   "metadata": {},
   "source": [
    "$\\newcommand{\\norm}[1]{\\|#1\\|}$\n",
    "\n",
    "We want to solve:\n",
    "$$ \\min_{W_1, W_2} \\norm{V W_1 - T W_2} $$"
   ]
  },
  {
   "cell_type": "code",
   "execution_count": null,
   "metadata": {
    "collapsed": false
   },
   "outputs": [],
   "source": [
    "def apply_cca(V, T, title='Joint latent space'):\n",
    "    d = 2 # Dimension of the final joint latent space\n",
    "    cca = CCA(n_components=d, scale=False)\n",
    "    cca.fit(V,T)\n",
    "\n",
    "    # New basis projection matrices\n",
    "    W1 = cca.x_weights_\n",
    "    W2 = cca.y_weights_\n",
    "\n",
    "    # Compute features in the new latent space\n",
    "    V_latent = np.dot(V,W1)\n",
    "    T_latent = np.dot(T,W2)\n",
    "\n",
    "    evaluate_latent_space(V_latent, T_latent, labels, title)\n",
    "\n",
    "def evaluate_latent_space(V_latent, T_latent, labels, title='Joint latent space'):\n",
    "    '''Evaluate latent space with quadratic error and 2D plot'''\n",
    "    error = np.linalg.norm(V_latent - T_latent)\n",
    "\n",
    "    # Split data between themes (airplanes and cars)\n",
    "    V_latent_1 = V_latent[labels==1]\n",
    "    V_latent_2 = V_latent[labels==2]\n",
    "    T_latent_1 = T_latent[labels==1]\n",
    "    T_latent_2 = T_latent[labels==2]\n",
    "\n",
    "    # Plot data from both views (visual and textual)\n",
    "    plt.figure(figsize=(12,8))\n",
    "    plt.plot(V_latent_1[:, 0], V_latent_1[:, 1], 'rs', label='1 (from visual)')\n",
    "    plt.plot(T_latent_1[:, 0], T_latent_1[:, 1], 'r^', label='1 (from textual)')\n",
    "    plt.plot(V_latent_2[:, 0], V_latent_2[:, 1], 'bs', label='2 (from visual)')\n",
    "    plt.plot(T_latent_2[:, 0], T_latent_2[:, 1], 'b^', label='2 (from textual)')\n",
    "    plt.title('%s\\n Error: %.2f' % (title,error), fontsize=20)\n",
    "    plt.legend(numpoints=1, loc='lower left')\n",
    "    plt.show()"
   ]
  },
  {
   "cell_type": "code",
   "execution_count": null,
   "metadata": {
    "collapsed": false
   },
   "outputs": [],
   "source": [
    "from sklearn.cross_decomposition import CCA\n",
    "\n",
    "# Concatenate all features into matrices\n",
    "V = np.concatenate((data_1_visual, data_2_visual)) # Visual features\n",
    "T = np.concatenate((data_1_textual, data_2_textual)) # Textual features\n",
    "labels = np.ones(V.shape[0]) \n",
    "labels[data_2_visual.shape[0]:] = 2\n",
    "\n",
    "# Apply CCA\n",
    "apply_cca(V,T)\n",
    "\n",
    "# Apply CCA with nonlinear kernel mappings\n",
    "phi = lambda x,y : np.array([x,y,np.cos(x),np.cos(y),np.sin(x),np.sin(y)]).T\n",
    "V = phi(V[:,0],V[:,1])\n",
    "T = phi(T[:,0],T[:,1])\n",
    "apply_cca(V,T)"
   ]
  }
 ],
 "metadata": {
  "kernelspec": {
   "display_name": "Python 3",
   "language": "python",
   "name": "python3"
  },
  "language_info": {
   "codemirror_mode": {
    "name": "ipython",
    "version": 3
   },
   "file_extension": ".py",
   "mimetype": "text/x-python",
   "name": "python",
   "nbconvert_exporter": "python",
   "pygments_lexer": "ipython3",
   "version": "3.5.2"
  }
 },
 "nbformat": 4,
 "nbformat_minor": 2
}
